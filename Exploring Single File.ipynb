{
 "cells": [
  {
   "cell_type": "code",
   "execution_count": 7,
   "metadata": {
    "collapsed": true
   },
   "outputs": [],
   "source": [
    "# The usual preamble\n",
    "%matplotlib inline\n",
    "import pandas as pd\n",
    "import matplotlib.pyplot as plt\n",
    "\n",
    "# Make the graphs a bit prettier, and bigger\n",
    "pd.set_option('display.mpl_style', 'default')\n",
    "\n",
    "# This is necessary to show lots of columns in pandas 0.12. \n",
    "# Not necessary in pandas 0.13.\n",
    "pd.set_option('display.width', 5000) \n",
    "pd.set_option('display.max_columns', 60)\n",
    "\n",
    "plt.rcParams['figure.figsize'] = (15, 5)"
   ]
  },
  {
   "cell_type": "code",
   "execution_count": 15,
   "metadata": {
    "collapsed": false
   },
   "outputs": [
    {
     "data": {
      "text/html": [
       "<div style=\"max-height:1000px;max-width:1500px;overflow:auto;\">\n",
       "<table border=\"1\" class=\"dataframe\">\n",
       "  <thead>\n",
       "    <tr style=\"text-align: right;\">\n",
       "      <th></th>\n",
       "      <th>name</th>\n",
       "      <th>created</th>\n",
       "    </tr>\n",
       "  </thead>\n",
       "  <tbody>\n",
       "    <tr>\n",
       "      <th>0 </th>\n",
       "      <td>           Bakerloo</td>\n",
       "      <td> 2015-02-23T13:10:57.307</td>\n",
       "    </tr>\n",
       "    <tr>\n",
       "      <th>1 </th>\n",
       "      <td>            Central</td>\n",
       "      <td> 2015-02-23T13:10:57.587</td>\n",
       "    </tr>\n",
       "    <tr>\n",
       "      <th>2 </th>\n",
       "      <td>             Circle</td>\n",
       "      <td>  2015-02-23T13:10:57.18</td>\n",
       "    </tr>\n",
       "    <tr>\n",
       "      <th>3 </th>\n",
       "      <td>           District</td>\n",
       "      <td>  2015-02-23T13:10:57.21</td>\n",
       "    </tr>\n",
       "    <tr>\n",
       "      <th>4 </th>\n",
       "      <td> Hammersmith &amp; City</td>\n",
       "      <td> 2015-02-23T13:10:57.413</td>\n",
       "    </tr>\n",
       "    <tr>\n",
       "      <th>5 </th>\n",
       "      <td>            Jubilee</td>\n",
       "      <td>  2015-02-23T13:10:57.96</td>\n",
       "    </tr>\n",
       "    <tr>\n",
       "      <th>6 </th>\n",
       "      <td>       Metropolitan</td>\n",
       "      <td> 2015-02-23T13:10:56.947</td>\n",
       "    </tr>\n",
       "    <tr>\n",
       "      <th>7 </th>\n",
       "      <td>           Northern</td>\n",
       "      <td> 2015-02-23T13:10:57.837</td>\n",
       "    </tr>\n",
       "    <tr>\n",
       "      <th>8 </th>\n",
       "      <td>         Piccadilly</td>\n",
       "      <td> 2015-02-23T13:10:57.727</td>\n",
       "    </tr>\n",
       "    <tr>\n",
       "      <th>9 </th>\n",
       "      <td>           Victoria</td>\n",
       "      <td>  2015-02-23T13:10:57.93</td>\n",
       "    </tr>\n",
       "    <tr>\n",
       "      <th>10</th>\n",
       "      <td>    Waterloo &amp; City</td>\n",
       "      <td> 2015-02-23T13:10:57.617</td>\n",
       "    </tr>\n",
       "  </tbody>\n",
       "</table>\n",
       "</div>"
      ],
      "text/plain": [
       "                  name                  created\n",
       "0             Bakerloo  2015-02-23T13:10:57.307\n",
       "1              Central  2015-02-23T13:10:57.587\n",
       "2               Circle   2015-02-23T13:10:57.18\n",
       "3             District   2015-02-23T13:10:57.21\n",
       "4   Hammersmith & City  2015-02-23T13:10:57.413\n",
       "5              Jubilee   2015-02-23T13:10:57.96\n",
       "6         Metropolitan  2015-02-23T13:10:56.947\n",
       "7             Northern  2015-02-23T13:10:57.837\n",
       "8           Piccadilly  2015-02-23T13:10:57.727\n",
       "9             Victoria   2015-02-23T13:10:57.93\n",
       "10     Waterloo & City  2015-02-23T13:10:57.617"
      ]
     },
     "execution_count": 15,
     "metadata": {},
     "output_type": "execute_result"
    }
   ],
   "source": [
    "df[['name','created']]"
   ]
  },
  {
   "cell_type": "code",
   "execution_count": 28,
   "metadata": {
    "collapsed": false
   },
   "outputs": [
    {
     "data": {
      "text/plain": [
       "<matplotlib.axes.AxesSubplot at 0x10c3d81d0>"
      ]
     },
     "execution_count": 28,
     "metadata": {},
     "output_type": "execute_result"
    },
    {
     "data": {
      "image/png": "[encoded data removed]",
      "text/plain": [
       "<matplotlib.figure.Figure at 0x10c3bd350>"
      ]
     },
     "metadata": {},
     "output_type": "display_data"
    }
   ],
   "source": [
    "dfBoth=pd.concat([df,df2,df3])\n",
    "dfBoth.head()\n",
    "dis_counts=dfBoth['name'].value_counts()\n",
    "dis_counts.plot(kind='bar',ylim=(0,10))"
   ]
  }
 ],
 "metadata": {
  "kernelspec": {
   "display_name": "Python 2",
   "language": "python",
   "name": "python2"
  },
  "language_info": {
   "codemirror_mode": {
    "name": "ipython",
    "version": 2
   },
   "file_extension": ".py",
   "mimetype": "text/x-python",
   "name": "python",
   "nbconvert_exporter": "python",
   "pygments_lexer": "ipython2",
   "version": "2.7.10"
  }
 },
 "nbformat": 4,
 "nbformat_minor": 0
}
