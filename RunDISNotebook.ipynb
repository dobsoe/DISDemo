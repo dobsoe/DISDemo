{
 "cells": [
  {
   "cell_type": "code",
   "execution_count": 3,
   "metadata": {
    "collapsed": false
   },
   "outputs": [],
   "source": [
    "%reload_ext autoreload\n",
    "%autoreload 2\n",
    "%matplotlib inline  \n",
    "import pandas as pd"
   ]
  },
  {
   "cell_type": "code",
   "execution_count": 4,
   "metadata": {
    "collapsed": false
   },
   "outputs": [],
   "source": [
    "import RunDISApp as run\n",
    "from classes import S3Connection\n",
    "from classes import AnalysisSkeleton"
   ]
  },
  {
   "cell_type": "code",
   "execution_count": 10,
   "metadata": {
    "collapsed": false
   },
   "outputs": [
    {
     "name": "stdout",
     "output_type": "stream",
     "text": [
      "100files read\n",
      "200files read\n",
      "300files read\n",
      "400files read\n",
      "500files read\n",
      "done\n"
     ]
    }
   ],
   "source": [
    "conn = S3Connection.s3Connection()\n",
    "aS = AnalysisSkeleton.analysisSkeleton(conn.getjson(500))"
   ]
  },
  {
   "cell_type": "code",
   "execution_count": 11,
   "metadata": {
    "collapsed": false
   },
   "outputs": [
    {
     "data": {
      "text/html": [
       "<div style=\"max-height:1000px;max-width:1500px;overflow:auto;\">\n",
       "<table border=\"1\" class=\"dataframe\">\n",
       "  <thead>\n",
       "    <tr style=\"text-align: right;\">\n",
       "      <th></th>\n",
       "      <th>$type</th>\n",
       "      <th>created</th>\n",
       "      <th>disruptedNaptanIds</th>\n",
       "      <th>lineStatuses</th>\n",
       "      <th>modeName</th>\n",
       "      <th>modified</th>\n",
       "      <th>routeSections</th>\n",
       "      <th>statusSeverity</th>\n",
       "      <th>statusSeverityDescription</th>\n",
       "      <th>validityPeriods</th>\n",
       "      <th>created2</th>\n",
       "      <th>line</th>\n",
       "    </tr>\n",
       "  </thead>\n",
       "  <tbody>\n",
       "    <tr>\n",
       "      <th>0</th>\n",
       "      <td> Tfl.Api.Presentation.Entities.Line, Tfl.Api.Pr...</td>\n",
       "      <td> 2015-02-23T13:10:57.307</td>\n",
       "      <td> [940GZZLUBST, 940GZZLUCHX, 940GZZLUEAC, 940GZZ...</td>\n",
       "      <td> [{u'created': u'0001-01-01T00:00:00', u'$type'...</td>\n",
       "      <td> tube</td>\n",
       "      <td>2015-02-23 13:10:57.307000</td>\n",
       "      <td> []</td>\n",
       "      <td> 10</td>\n",
       "      <td> Good Service</td>\n",
       "      <td> []</td>\n",
       "      <td> 0001-01-01T00:00:00</td>\n",
       "      <td> 0</td>\n",
       "    </tr>\n",
       "    <tr>\n",
       "      <th>1</th>\n",
       "      <td> Tfl.Api.Presentation.Entities.Line, Tfl.Api.Pr...</td>\n",
       "      <td> 2015-02-23T13:10:57.587</td>\n",
       "      <td> [940GZZLUBKE, 940GZZLUBLG, 940GZZLUBND, 940GZZ...</td>\n",
       "      <td> [{u'created': u'0001-01-01T00:00:00', u'$type'...</td>\n",
       "      <td> tube</td>\n",
       "      <td>2015-02-23 13:10:57.587000</td>\n",
       "      <td> []</td>\n",
       "      <td> 10</td>\n",
       "      <td> Good Service</td>\n",
       "      <td> []</td>\n",
       "      <td> 0001-01-01T00:00:00</td>\n",
       "      <td> 0</td>\n",
       "    </tr>\n",
       "    <tr>\n",
       "      <th>2</th>\n",
       "      <td> Tfl.Api.Presentation.Entities.Line, Tfl.Api.Pr...</td>\n",
       "      <td>  2015-02-23T13:10:57.18</td>\n",
       "      <td> [940GZZLUALD, 940GZZLUBBN, 940GZZLUBKF, 940GZZ...</td>\n",
       "      <td> [{u'created': u'0001-01-01T00:00:00', u'$type'...</td>\n",
       "      <td> tube</td>\n",
       "      <td>2015-02-23 13:10:57.180000</td>\n",
       "      <td> []</td>\n",
       "      <td> 10</td>\n",
       "      <td> Good Service</td>\n",
       "      <td> []</td>\n",
       "      <td> 0001-01-01T00:00:00</td>\n",
       "      <td> 0</td>\n",
       "    </tr>\n",
       "    <tr>\n",
       "      <th>3</th>\n",
       "      <td> Tfl.Api.Presentation.Entities.Line, Tfl.Api.Pr...</td>\n",
       "      <td>  2015-02-23T13:10:57.21</td>\n",
       "      <td> [910GBLFR, 940GZZLUADE, 940GZZLUBBB, 940GZZLUB...</td>\n",
       "      <td> [{u'created': u'0001-01-01T00:00:00', u'$type'...</td>\n",
       "      <td> tube</td>\n",
       "      <td>2015-02-23 13:10:57.210000</td>\n",
       "      <td> []</td>\n",
       "      <td> 10</td>\n",
       "      <td> Good Service</td>\n",
       "      <td> []</td>\n",
       "      <td> 0001-01-01T00:00:00</td>\n",
       "      <td> 0</td>\n",
       "    </tr>\n",
       "    <tr>\n",
       "      <th>4</th>\n",
       "      <td> Tfl.Api.Presentation.Entities.Line, Tfl.Api.Pr...</td>\n",
       "      <td> 2015-02-23T13:10:57.413</td>\n",
       "      <td> [940GZZLUADE, 940GZZLUBBB, 940GZZLUBBN, 940GZZ...</td>\n",
       "      <td> [{u'created': u'0001-01-01T00:00:00', u'$type'...</td>\n",
       "      <td> tube</td>\n",
       "      <td>2015-02-23 13:10:57.413000</td>\n",
       "      <td> []</td>\n",
       "      <td> 10</td>\n",
       "      <td> Good Service</td>\n",
       "      <td> []</td>\n",
       "      <td> 0001-01-01T00:00:00</td>\n",
       "      <td> 0</td>\n",
       "    </tr>\n",
       "  </tbody>\n",
       "</table>\n",
       "</div>"
      ],
      "text/plain": [
       "                                               $type                  created                                 disruptedNaptanIds                                       lineStatuses modeName                   modified routeSections  statusSeverity statusSeverityDescription validityPeriods             created2  line\n",
       "0  Tfl.Api.Presentation.Entities.Line, Tfl.Api.Pr...  2015-02-23T13:10:57.307  [940GZZLUBST, 940GZZLUCHX, 940GZZLUEAC, 940GZZ...  [{u'created': u'0001-01-01T00:00:00', u'$type'...     tube 2015-02-23 13:10:57.307000            []              10              Good Service              []  0001-01-01T00:00:00     0\n",
       "1  Tfl.Api.Presentation.Entities.Line, Tfl.Api.Pr...  2015-02-23T13:10:57.587  [940GZZLUBKE, 940GZZLUBLG, 940GZZLUBND, 940GZZ...  [{u'created': u'0001-01-01T00:00:00', u'$type'...     tube 2015-02-23 13:10:57.587000            []              10              Good Service              []  0001-01-01T00:00:00     0\n",
       "2  Tfl.Api.Presentation.Entities.Line, Tfl.Api.Pr...   2015-02-23T13:10:57.18  [940GZZLUALD, 940GZZLUBBN, 940GZZLUBKF, 940GZZ...  [{u'created': u'0001-01-01T00:00:00', u'$type'...     tube 2015-02-23 13:10:57.180000            []              10              Good Service              []  0001-01-01T00:00:00     0\n",
       "3  Tfl.Api.Presentation.Entities.Line, Tfl.Api.Pr...   2015-02-23T13:10:57.21  [910GBLFR, 940GZZLUADE, 940GZZLUBBB, 940GZZLUB...  [{u'created': u'0001-01-01T00:00:00', u'$type'...     tube 2015-02-23 13:10:57.210000            []              10              Good Service              []  0001-01-01T00:00:00     0\n",
       "4  Tfl.Api.Presentation.Entities.Line, Tfl.Api.Pr...  2015-02-23T13:10:57.413  [940GZZLUADE, 940GZZLUBBB, 940GZZLUBBN, 940GZZ...  [{u'created': u'0001-01-01T00:00:00', u'$type'...     tube 2015-02-23 13:10:57.413000            []              10              Good Service              []  0001-01-01T00:00:00     0"
      ]
     },
     "execution_count": 11,
     "metadata": {},
     "output_type": "execute_result"
    }
   ],
   "source": [
    "data = aS.cleanData()"
   ]
  },
  {
   "cell_type": "code",
   "execution_count": 17,
   "metadata": {
    "collapsed": false
   },
   "outputs": [
    {
     "data": {
      "text/html": [
       "<div style=\"max-height:1000px;max-width:1500px;overflow:auto;\">\n",
       "<table border=\"1\" class=\"dataframe\">\n",
       "  <thead>\n",
       "    <tr style=\"text-align: right;\">\n",
       "      <th></th>\n",
       "      <th>$type</th>\n",
       "      <th>created</th>\n",
       "      <th>disruptedNaptanIds</th>\n",
       "      <th>lineStatuses</th>\n",
       "      <th>modeName</th>\n",
       "      <th>modified</th>\n",
       "      <th>routeSections</th>\n",
       "      <th>statusSeverity</th>\n",
       "      <th>statusSeverityDescription</th>\n",
       "      <th>validityPeriods</th>\n",
       "      <th>created2</th>\n",
       "      <th>line</th>\n",
       "    </tr>\n",
       "  </thead>\n",
       "  <tbody>\n",
       "  </tbody>\n",
       "</table>\n",
       "</div>"
      ],
      "text/plain": [
       "Empty DataFrame\n",
       "Columns: [$type, created, disruptedNaptanIds, lineStatuses, modeName, modified, routeSections, statusSeverity, statusSeverityDescription, validityPeriods, created2, line]\n",
       "Index: []"
      ]
     },
     "execution_count": 17,
     "metadata": {},
     "output_type": "execute_result"
    }
   ],
   "source": [
    "data[data['line']!=0]"
   ]
  },
  {
   "cell_type": "code",
   "execution_count": null,
   "metadata": {
    "collapsed": true
   },
   "outputs": [],
   "source": []
  }
 ],
 "metadata": {
  "kernelspec": {
   "display_name": "Python 2",
   "language": "python",
   "name": "python2"
  },
  "language_info": {
   "codemirror_mode": {
    "name": "ipython",
    "version": 2
   },
   "file_extension": ".py",
   "mimetype": "text/x-python",
   "name": "python",
   "nbconvert_exporter": "python",
   "pygments_lexer": "ipython2",
   "version": "2.7.10"
  }
 },
 "nbformat": 4,
 "nbformat_minor": 0
}
