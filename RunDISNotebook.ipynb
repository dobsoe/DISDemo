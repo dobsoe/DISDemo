{
 "cells": [
  {
   "cell_type": "code",
   "execution_count": 1,
   "metadata": {
    "collapsed": false
   },
   "outputs": [],
   "source": [
    "%reload_ext autoreload\n",
    "%autoreload 2\n",
    "%matplotlib inline  \n",
    "import pandas as pd\n",
    "pd.set_option('display.width', 5000) \n",
    "pd.set_option('display.max_columns', 60)\n",
    "pd.set_option('display.mpl_style', 'default')\n",
    "plt.rcParams['figure.figsize'] = (15, 5)"
   ]
  },
  {
   "cell_type": "code",
   "execution_count": 3,
   "metadata": {
    "collapsed": false
   },
   "outputs": [],
   "source": [
    "import RunDISApp as run\n",
    "from classes import S3Connection\n",
    "from classes import AnalysisSkeleton"
   ]
  },
  {
   "cell_type": "code",
   "execution_count": 4,
   "metadata": {
    "collapsed": false
   },
   "outputs": [
    {
     "name": "stdout",
     "output_type": "stream",
     "text": [
      "0\n",
      "0\n",
      "0\n",
      "0\n",
      "0\n",
      "done\n"
     ]
    },
    {
     "ename": "NameError",
     "evalue": "global name 'data' is not defined",
     "output_type": "error",
     "traceback": [
      "\u001b[0;31m---------------------------------------------------------------------------\u001b[0m",
      "\u001b[0;31mNameError\u001b[0m                                 Traceback (most recent call last)",
      "\u001b[0;32m<ipython-input-4-650745431b59>\u001b[0m in \u001b[0;36m<module>\u001b[0;34m()\u001b[0m\n\u001b[1;32m      1\u001b[0m \u001b[0mconn\u001b[0m \u001b[0;34m=\u001b[0m \u001b[0mS3Connection\u001b[0m\u001b[0;34m.\u001b[0m\u001b[0ms3Connection\u001b[0m\u001b[0;34m(\u001b[0m\u001b[0;34m)\u001b[0m\u001b[0;34m\u001b[0m\u001b[0m\n\u001b[1;32m      2\u001b[0m \u001b[0maS\u001b[0m \u001b[0;34m=\u001b[0m \u001b[0mAnalysisSkeleton\u001b[0m\u001b[0;34m.\u001b[0m\u001b[0manalysisSkeleton\u001b[0m\u001b[0;34m(\u001b[0m\u001b[0mconn\u001b[0m\u001b[0;34m.\u001b[0m\u001b[0mgetjson\u001b[0m\u001b[0;34m(\u001b[0m\u001b[0;36m500\u001b[0m\u001b[0;34m)\u001b[0m\u001b[0;34m)\u001b[0m\u001b[0;34m\u001b[0m\u001b[0m\n\u001b[0;32m----> 3\u001b[0;31m \u001b[0mdata\u001b[0m \u001b[0;34m=\u001b[0m \u001b[0maS\u001b[0m\u001b[0;34m.\u001b[0m\u001b[0mcleanData\u001b[0m\u001b[0;34m(\u001b[0m\u001b[0;34m)\u001b[0m\u001b[0;34m\u001b[0m\u001b[0m\n\u001b[0m",
      "\u001b[0;32m/Users/elliedobson/Documents/Work/Projects/DISDemo/classes/AnalysisSkeleton.pyc\u001b[0m in \u001b[0;36mcleanData\u001b[0;34m(self)\u001b[0m\n\u001b[1;32m     18\u001b[0m         \u001b[0mself\u001b[0m\u001b[0;34m.\u001b[0m\u001b[0mdata\u001b[0m\u001b[0;34m[\u001b[0m\u001b[0;34m'created2'\u001b[0m\u001b[0;34m]\u001b[0m\u001b[0;34m=\u001b[0m\u001b[0ms\u001b[0m\u001b[0;34m.\u001b[0m\u001b[0miloc\u001b[0m\u001b[0;34m[\u001b[0m\u001b[0;34m:\u001b[0m\u001b[0;34m]\u001b[0m\u001b[0;34m.\u001b[0m\u001b[0mapply\u001b[0m\u001b[0;34m(\u001b[0m\u001b[0;32mlambda\u001b[0m \u001b[0mx\u001b[0m\u001b[0;34m:\u001b[0m \u001b[0mx\u001b[0m\u001b[0;34m[\u001b[0m\u001b[0;36m0\u001b[0m\u001b[0;34m]\u001b[0m\u001b[0;34m[\u001b[0m\u001b[0;34m'created'\u001b[0m\u001b[0;34m]\u001b[0m\u001b[0;34m)\u001b[0m\u001b[0;34m\u001b[0m\u001b[0m\n\u001b[1;32m     19\u001b[0m         \u001b[0mself\u001b[0m\u001b[0;34m.\u001b[0m\u001b[0mdata\u001b[0m\u001b[0;34m[\u001b[0m\u001b[0;34m'line'\u001b[0m\u001b[0;34m]\u001b[0m\u001b[0;34m=\u001b[0m\u001b[0ms\u001b[0m\u001b[0;34m.\u001b[0m\u001b[0miloc\u001b[0m\u001b[0;34m[\u001b[0m\u001b[0;34m:\u001b[0m\u001b[0;34m]\u001b[0m\u001b[0;34m.\u001b[0m\u001b[0mapply\u001b[0m\u001b[0;34m(\u001b[0m\u001b[0;32mlambda\u001b[0m \u001b[0mx\u001b[0m\u001b[0;34m:\u001b[0m \u001b[0mx\u001b[0m\u001b[0;34m[\u001b[0m\u001b[0;36m0\u001b[0m\u001b[0;34m]\u001b[0m\u001b[0;34m[\u001b[0m\u001b[0;34m'id'\u001b[0m\u001b[0;34m]\u001b[0m\u001b[0;34m)\u001b[0m\u001b[0;34m\u001b[0m\u001b[0m\n\u001b[0;32m---> 20\u001b[0;31m         \u001b[0;32mdel\u001b[0m \u001b[0mdata\u001b[0m\u001b[0;34m[\u001b[0m\u001b[0;34m'name'\u001b[0m\u001b[0;34m]\u001b[0m\u001b[0;34m\u001b[0m\u001b[0m\n\u001b[0m\u001b[1;32m     21\u001b[0m         \u001b[0;32mdel\u001b[0m \u001b[0mdata\u001b[0m\u001b[0;34m[\u001b[0m\u001b[0;34m'id'\u001b[0m\u001b[0;34m]\u001b[0m\u001b[0;34m\u001b[0m\u001b[0m\n\u001b[1;32m     22\u001b[0m         \u001b[0;31m#del data['lineStatuses']\u001b[0m\u001b[0;34m\u001b[0m\u001b[0;34m\u001b[0m\u001b[0m\n",
      "\u001b[0;31mNameError\u001b[0m: global name 'data' is not defined"
     ]
    }
   ],
   "source": [
    "conn = S3Connection.s3Connection()\n",
    "aS = AnalysisSkeleton.analysisSkeleton(conn.getjson(500))\n",
    "data = aS.cleanData()"
   ]
  },
  {
   "cell_type": "code",
   "execution_count": 137,
   "metadata": {
    "collapsed": false
   },
   "outputs": [
    {
     "data": {
      "text/html": [
       "<div style=\"max-height:1000px;max-width:1500px;overflow:auto;\">\n",
       "<table border=\"1\" class=\"dataframe\">\n",
       "  <thead>\n",
       "    <tr style=\"text-align: right;\">\n",
       "      <th></th>\n",
       "      <th>$type</th>\n",
       "      <th>created</th>\n",
       "      <th>disruptedNaptanIds</th>\n",
       "      <th>line</th>\n",
       "      <th>modeName</th>\n",
       "      <th>modified</th>\n",
       "      <th>routeSections</th>\n",
       "      <th>statusSeverity</th>\n",
       "      <th>statusSeverityDescription</th>\n",
       "      <th>validityPeriods</th>\n",
       "      <th>created2</th>\n",
       "      <th>id2</th>\n",
       "      <th>line</th>\n",
       "      <th>id</th>\n",
       "    </tr>\n",
       "  </thead>\n",
       "  <tbody>\n",
       "    <tr>\n",
       "      <th>0</th>\n",
       "      <td> Tfl.Api.Presentation.Entities.Line, Tfl.Api.Pr...</td>\n",
       "      <td> 2015-02-23T13:10:57.307</td>\n",
       "      <td> [940GZZLUBST, 940GZZLUCHX, 940GZZLUEAC, 940GZZ...</td>\n",
       "      <td>         bakerloo</td>\n",
       "      <td> tube</td>\n",
       "      <td>2015-02-23 13:10:57.307000</td>\n",
       "      <td> []</td>\n",
       "      <td> 10</td>\n",
       "      <td> Good Service</td>\n",
       "      <td> []</td>\n",
       "      <td> 0001-01-01T00:00:00</td>\n",
       "      <td> 0</td>\n",
       "      <td> 0</td>\n",
       "      <td> 0</td>\n",
       "    </tr>\n",
       "    <tr>\n",
       "      <th>1</th>\n",
       "      <td> Tfl.Api.Presentation.Entities.Line, Tfl.Api.Pr...</td>\n",
       "      <td> 2015-02-23T13:10:57.587</td>\n",
       "      <td> [940GZZLUBKE, 940GZZLUBLG, 940GZZLUBND, 940GZZ...</td>\n",
       "      <td>          central</td>\n",
       "      <td> tube</td>\n",
       "      <td>2015-02-23 13:10:57.587000</td>\n",
       "      <td> []</td>\n",
       "      <td> 10</td>\n",
       "      <td> Good Service</td>\n",
       "      <td> []</td>\n",
       "      <td> 0001-01-01T00:00:00</td>\n",
       "      <td> 0</td>\n",
       "      <td> 0</td>\n",
       "      <td> 0</td>\n",
       "    </tr>\n",
       "    <tr>\n",
       "      <th>2</th>\n",
       "      <td> Tfl.Api.Presentation.Entities.Line, Tfl.Api.Pr...</td>\n",
       "      <td>  2015-02-23T13:10:57.18</td>\n",
       "      <td> [940GZZLUALD, 940GZZLUBBN, 940GZZLUBKF, 940GZZ...</td>\n",
       "      <td>           circle</td>\n",
       "      <td> tube</td>\n",
       "      <td>2015-02-23 13:10:57.180000</td>\n",
       "      <td> []</td>\n",
       "      <td> 10</td>\n",
       "      <td> Good Service</td>\n",
       "      <td> []</td>\n",
       "      <td> 0001-01-01T00:00:00</td>\n",
       "      <td> 0</td>\n",
       "      <td> 0</td>\n",
       "      <td> 0</td>\n",
       "    </tr>\n",
       "    <tr>\n",
       "      <th>3</th>\n",
       "      <td> Tfl.Api.Presentation.Entities.Line, Tfl.Api.Pr...</td>\n",
       "      <td>  2015-02-23T13:10:57.21</td>\n",
       "      <td> [910GBLFR, 940GZZLUADE, 940GZZLUBBB, 940GZZLUB...</td>\n",
       "      <td>         district</td>\n",
       "      <td> tube</td>\n",
       "      <td>2015-02-23 13:10:57.210000</td>\n",
       "      <td> []</td>\n",
       "      <td> 10</td>\n",
       "      <td> Good Service</td>\n",
       "      <td> []</td>\n",
       "      <td> 0001-01-01T00:00:00</td>\n",
       "      <td> 0</td>\n",
       "      <td> 0</td>\n",
       "      <td> 0</td>\n",
       "    </tr>\n",
       "    <tr>\n",
       "      <th>4</th>\n",
       "      <td> Tfl.Api.Presentation.Entities.Line, Tfl.Api.Pr...</td>\n",
       "      <td> 2015-02-23T13:10:57.413</td>\n",
       "      <td> [940GZZLUADE, 940GZZLUBBB, 940GZZLUBBN, 940GZZ...</td>\n",
       "      <td> hammersmith-city</td>\n",
       "      <td> tube</td>\n",
       "      <td>2015-02-23 13:10:57.413000</td>\n",
       "      <td> []</td>\n",
       "      <td> 10</td>\n",
       "      <td> Good Service</td>\n",
       "      <td> []</td>\n",
       "      <td> 0001-01-01T00:00:00</td>\n",
       "      <td> 0</td>\n",
       "      <td> 0</td>\n",
       "      <td> 0</td>\n",
       "    </tr>\n",
       "  </tbody>\n",
       "</table>\n",
       "</div>"
      ],
      "text/plain": [
       "                                               $type                  created                                 disruptedNaptanIds              line modeName                   modified routeSections  statusSeverity statusSeverityDescription validityPeriods             created2  id2  line  id\n",
       "0  Tfl.Api.Presentation.Entities.Line, Tfl.Api.Pr...  2015-02-23T13:10:57.307  [940GZZLUBST, 940GZZLUCHX, 940GZZLUEAC, 940GZZ...          bakerloo     tube 2015-02-23 13:10:57.307000            []              10              Good Service              []  0001-01-01T00:00:00    0     0   0\n",
       "1  Tfl.Api.Presentation.Entities.Line, Tfl.Api.Pr...  2015-02-23T13:10:57.587  [940GZZLUBKE, 940GZZLUBLG, 940GZZLUBND, 940GZZ...           central     tube 2015-02-23 13:10:57.587000            []              10              Good Service              []  0001-01-01T00:00:00    0     0   0\n",
       "2  Tfl.Api.Presentation.Entities.Line, Tfl.Api.Pr...   2015-02-23T13:10:57.18  [940GZZLUALD, 940GZZLUBBN, 940GZZLUBKF, 940GZZ...            circle     tube 2015-02-23 13:10:57.180000            []              10              Good Service              []  0001-01-01T00:00:00    0     0   0\n",
       "3  Tfl.Api.Presentation.Entities.Line, Tfl.Api.Pr...   2015-02-23T13:10:57.21  [910GBLFR, 940GZZLUADE, 940GZZLUBBB, 940GZZLUB...          district     tube 2015-02-23 13:10:57.210000            []              10              Good Service              []  0001-01-01T00:00:00    0     0   0\n",
       "4  Tfl.Api.Presentation.Entities.Line, Tfl.Api.Pr...  2015-02-23T13:10:57.413  [940GZZLUADE, 940GZZLUBBB, 940GZZLUBBN, 940GZZ...  hammersmith-city     tube 2015-02-23 13:10:57.413000            []              10              Good Service              []  0001-01-01T00:00:00    0     0   0"
      ]
     },
     "execution_count": 137,
     "metadata": {},
     "output_type": "execute_result"
    }
   ],
   "source": [
    "data.head()"
   ]
  },
  {
   "cell_type": "code",
   "execution_count": null,
   "metadata": {
    "collapsed": true
   },
   "outputs": [],
   "source": []
  }
 ],
 "metadata": {
  "kernelspec": {
   "display_name": "Python 2",
   "language": "python",
   "name": "python2"
  },
  "language_info": {
   "codemirror_mode": {
    "name": "ipython",
    "version": 2
   },
   "file_extension": ".py",
   "mimetype": "text/x-python",
   "name": "python",
   "nbconvert_exporter": "python",
   "pygments_lexer": "ipython2",
   "version": "2.7.10"
  }
 },
 "nbformat": 4,
 "nbformat_minor": 0
}
